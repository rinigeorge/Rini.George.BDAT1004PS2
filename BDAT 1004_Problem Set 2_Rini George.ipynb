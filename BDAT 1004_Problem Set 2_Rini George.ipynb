{
 "cells": [
  {
   "cell_type": "markdown",
   "id": "0a4d6f10",
   "metadata": {},
   "source": [
    "# PROBLEM SET - 2"
   ]
  },
  {
   "cell_type": "markdown",
   "id": "31be5f5d",
   "metadata": {},
   "source": [
    "1) What value is displayed when the last expression (a) is evaluated? Explain your answer by indicating what happens in every executed statement.\n",
    "\n",
    "Ans: First b(),\n",
    "            a = 0+2 = 2\n",
    "            \n",
    "     Second b(),\n",
    "            a = 2+2 = 4\n",
    "            \n",
    "     Third b(),\n",
    "            a = 4+2 = 6\n",
    "            \n",
    "     Finally, a's value is 6.         \n",
    "            "
   ]
  },
  {
   "cell_type": "markdown",
   "id": "b48c5f54",
   "metadata": {},
   "source": [
    "2) If the file cannot be found by the interpreter or if it cannot be read as a text file, an exception will be raised. Modify function fileLength() so that a friendly message is printed instead."
   ]
  },
  {
   "cell_type": "code",
   "execution_count": 78,
   "id": "9a201e37",
   "metadata": {},
   "outputs": [
    {
     "name": "stdout",
     "output_type": "stream",
     "text": [
      "123 \n",
      "\n",
      "File Filelngth.txt not found.\n"
     ]
    }
   ],
   "source": [
    "def fileLength(file):\n",
    "    \n",
    "    try:     \n",
    "        #Read the file the content if the file is present\n",
    "        filecontents = open(file)\n",
    "        contents = filecontents.read()\n",
    "        filecontents.close()\n",
    "        #Printing the length of the file\n",
    "        print(len(contents),\"\\n\")\n",
    "    \n",
    "    #Exception handled when the file is not found\n",
    "    except:  \n",
    "        #printing the friendly message\n",
    "        print('File {} not found.'.format(file))\n",
    "\n",
    "fileLength('Filelength.txt')\n",
    "fileLength('Filelngth.txt')"
   ]
  },
  {
   "cell_type": "markdown",
   "id": "af66df68",
   "metadata": {},
   "source": [
    "3) Write a class named Marsupial that can be used as shown. Now write a class named Kangaroo as a subclass of Marsupial that inherits all the attributes of Marsupial and also: \n",
    "a. extends the Marsupial __init__ constructor to take, as input, the coordinates x and y of the Kangaroo object,\n",
    "b. supports method jump that takes number values dx and dy as input and moves the kangaroo by dx units along the x-axis and by dy units along the y\u0002axis, and\n",
    "c. overloads the __str__ operator so it behaves as shown below"
   ]
  },
  {
   "cell_type": "code",
   "execution_count": 82,
   "id": "065093bb",
   "metadata": {},
   "outputs": [
    {
     "name": "stdout",
     "output_type": "stream",
     "text": [
      "['doll', 'firetruck', 'kitten']\n"
     ]
    }
   ],
   "source": [
    "#creating class named Marsupial\n",
    "class Marsupial:\n",
    "   \n",
    "    #Constructor\n",
    "    def __init__(main):\n",
    "        main.content = []\n",
    "\n",
    "    #List been added\n",
    "    def put_in_pouch(main, words):\n",
    "        main.content.append(words)\n",
    "\n",
    "    #Return the appended list\n",
    "    def pouch_contents(main):\n",
    "        return main.content\n",
    "\n",
    "m = Marsupial()\n",
    "m.put_in_pouch('doll')\n",
    "m.put_in_pouch('firetruck')\n",
    "m.put_in_pouch('kitten')\n",
    "\n",
    "#Printing the list\n",
    "print(m.pouch_contents()) "
   ]
  },
  {
   "cell_type": "code",
   "execution_count": 81,
   "id": "da7a88f2",
   "metadata": {},
   "outputs": [
    {
     "name": "stdout",
     "output_type": "stream",
     "text": [
      "I am a Kangaroo located at coordinates (0,0) \n",
      "\n",
      "['doll', 'firetruck', 'kitten'] \n",
      "\n",
      "I am a Kangaroo located at coordinates (3,0)\n"
     ]
    }
   ],
   "source": [
    "#creating class named Marsupial\n",
    "class Marsupial:\n",
    "   \n",
    "    #Constructor\n",
    "    def __init__(main):\n",
    "        main.content = []\n",
    "        \n",
    "    #List been added\n",
    "    def put_in_pouch(main, words):\n",
    "        main.content.append(words)\n",
    "\n",
    "    #Return the appended list\n",
    "    def pouch_contents(main):\n",
    "        return main.content\n",
    "    \n",
    "class Kangaroo(Marsupial):\n",
    "\n",
    "     #Extends the Marsupial __init__ constructor\n",
    "     def __init__(main, x, y):\n",
    "        Marsupial.__init__(main)\n",
    "        main.x = x\n",
    "        main.y = y\n",
    "        \n",
    "    #Supports method jump that takes number values dx and dy as input\n",
    "        main.x += dx\n",
    "        main.y += dy\n",
    "\n",
    "    #overloads the __str__ operator\n",
    "    def __str__(main):\n",
    "        return 'I am a Kangaroo located at coordinates ({},{})'.format(main.x, main.y)\n",
    "\n",
    "k = Kangaroo(0, 0)\n",
    "print(k,\"\\n\")\n",
    "k.put_in_pouch('doll')\n",
    "k.put_in_pouch('firetruck')\n",
    "k.put_in_pouch('kitten')\n",
    "print(k.pouch_contents(),\"\\n\")\n",
    "k.jump(1, 0)\n",
    "k.jump(1, 0)\n",
    "k.jump(1, 0)\n",
    "print(k)"
   ]
  },
  {
   "cell_type": "markdown",
   "id": "5836db99",
   "metadata": {},
   "source": [
    "4) Write function collatz() that takes a positive integer x as input and prints the Collatz sequence starting at x."
   ]
  },
  {
   "cell_type": "code",
   "execution_count": 32,
   "id": "830b7349",
   "metadata": {},
   "outputs": [
    {
     "name": "stdout",
     "output_type": "stream",
     "text": [
      ">>>collatz(1): [1] \n",
      "\n",
      ">>>collatz(10): [10, 5, 16, 8, 4, 2, 1]\n"
     ]
    }
   ],
   "source": [
    "#Function Collatz Defined\n",
    "def collatz(x):\n",
    "    sequence = [];\n",
    "    while x>1:\n",
    "        sequence.append(x);\n",
    "        \n",
    "        #Verifying if x is even or odd\n",
    "        if ((x % 2)==0):\n",
    "             x = x // 2\n",
    "        else:\n",
    "             x= 3 * x + 1\n",
    "        \n",
    "    sequence.append(1);\n",
    "    return sequence;\n",
    " \n",
    "print(\">>>collatz(1):\",collatz(1),\"\\n\")\n",
    "print(\">>>collatz(10):\",collatz(10))"
   ]
  },
  {
   "cell_type": "markdown",
   "id": "85d6f68e",
   "metadata": {},
   "source": [
    "5) Write a recursive method binary() that takes a non-negative integer n and prints the binary representation of integer n."
   ]
  },
  {
   "cell_type": "code",
   "execution_count": 45,
   "id": "c7a4f41c",
   "metadata": {},
   "outputs": [
    {
     "name": "stdout",
     "output_type": "stream",
     "text": [
      "0 \n",
      "\n",
      "1\n",
      "\n",
      "11\n",
      "\n",
      "1001"
     ]
    }
   ],
   "source": [
    "# Binary() method\n",
    "def binary(x):\n",
    "   if x == 0:\n",
    "       return \"0\"\n",
    "   else:\n",
    "       binary(x // 2)\n",
    "       print(str(x % 2),end=\"\")\n",
    "            \n",
    "#Printing out the binary representations\n",
    "print(binary(0),\"\\n\")  \n",
    "binary(1)\n",
    "print(\"\\n\")\n",
    "binary(3)\n",
    "print(\"\\n\")\n",
    "binary(9)"
   ]
  },
  {
   "cell_type": "markdown",
   "id": "3e285d6f",
   "metadata": {},
   "source": [
    "6) Implement a class named HeadingParser that can be used to parse an HTML document, and retrieve and print all the headings in the document. You should implement your class as a subclass of HTMLParser, defined in Standard Library module html.parser. When fed a string containing HTML code, your class should print the headings, one per line and in the order in which they appear in the document.  Each heading should be indented as follows: an h1 heading should have indentation 0, and h2 heading should have indentation 1, etc. Test your implementation using w3c.html."
   ]
  },
  {
   "cell_type": "code",
   "execution_count": 55,
   "id": "0f065674",
   "metadata": {},
   "outputs": [
    {
     "name": "stdout",
     "output_type": "stream",
     "text": [
      "  W3C Mission \n",
      "  \n",
      "\t \n",
      "   Principles \n",
      "   \n",
      " \n",
      "\n",
      "\n",
      " \n"
     ]
    }
   ],
   "source": [
    "#Import the Library\n",
    "from html.parser import HTMLParser       \n",
    "\n",
    "#Open the html file\n",
    "file_html = open(r'w3c.html')     \n",
    "contents = str(file_html.read())\n",
    "\n",
    "#Subclass of HTMLParser\n",
    "class HeadingParser(HTMLParser):         \n",
    "  \n",
    "    def __init__(self):                    \n",
    "        HTMLParser.__init__(self)\n",
    "        self.flag = 0 \n",
    "    \n",
    "    def handle_starttag(self, tag, attrs):                     \n",
    "        \n",
    "        if tag == 'h1' or tag == 'h2' or tag == 'h3' or tag == 'h4' or tag=='h5' or tag == 'h6' or tag == 'h7':\n",
    "            self.flag += 1                                     \n",
    "        else:\n",
    "            self.flag = 0\n",
    "            \n",
    "    def handle_data(self, data):           \n",
    "        if self.flag and data!='\\n':            \n",
    "            print('{} {} '.format(self.flag*' ', data))\n",
    "\n",
    "\n",
    "parser = HeadingParser()                   \n",
    "parser.feed(contents)"
   ]
  },
  {
   "cell_type": "markdown",
   "id": "01dab5af",
   "metadata": {},
   "source": [
    "7) Implement recursive function webdir() that takes as input: a URL (as a string) and non-negative integers depth and indent. Your function should visit every web page reachable from the starting URL web page in depth clicks or less, and print each web page's URL. As shown below, indentation, specified by indent, should be used to indicate the depth of a URL."
   ]
  },
  {
   "cell_type": "code",
   "execution_count": 83,
   "id": "e5beb74c",
   "metadata": {},
   "outputs": [
    {
     "name": "stdout",
     "output_type": "stream",
     "text": [
      "https://reed.cs.depaul.edu/lperkovic/test1.html\n",
      "    http://reed.cs.depaul.edu/lperkovic/test2.html\n",
      "        http://reed.cs.depaul.edu/lperkovic/test4.html\n",
      "    https://reed.cs.depaul.edu/lperkovic/test3.html\n",
      "        https://reed.cs.depaul.edu/lperkovic/test4.html\n"
     ]
    }
   ],
   "source": [
    "#Import the Library\n",
    "from urllib.parse import urljoin\n",
    "from urllib.request import urlopen\n",
    "from html.parser import HTMLParser\n",
    "\n",
    "class Web(HTMLParser): \n",
    "\n",
    "    def __init__(main, url): \n",
    "        HTMLParser.__init__(main)\n",
    "        main.url = url\n",
    "        main.links = []\n",
    "\n",
    "    def handle_starttag(self, tags, attribute): \n",
    "        if tags == 'a':\n",
    "            for attrs in attribute:\n",
    "                if attrs[0] == 'href': \n",
    "                    abs = urljoin(self.url, attrs[1])\n",
    "                    if abs[:4] == 'http':\n",
    "                        self.links.append(abs)\n",
    "                        \n",
    "#Returns the Hyperlink URL\n",
    "    def getLinks(self): \n",
    "        return self.links\n",
    "    \n",
    "#webdir() that takes as input: a URL (as a string) and non-negative integers depth and indent\n",
    "def webdir(url, depth, indent):\n",
    "   \n",
    "    try:\n",
    "        depthvalue = int(depth)\n",
    "        indentvalue = int(indent)\n",
    "        \n",
    "        if depthvalue < 0 or indentvalue < 0:      \n",
    "            raise ValueError\n",
    "            \n",
    "        resource = urlopen(url)\n",
    "        content = resource.read().decode()\n",
    "        collector = Collector(url)\n",
    "        collector.feed(content)\n",
    "        links = collector.getLinks()              \n",
    "\n",
    "        if indentvalue == 0:\n",
    "            print('{}'.format(url))\n",
    "\n",
    "        indentvalue = indentvalue + 4\n",
    "        depthvalue = depthvalue - 1\n",
    "        \n",
    "        if depthvalue >= 0:\n",
    "            for link in links:                         \n",
    "                print('{}{}'.format(indentvalue*' ', link), end = '\\n')\n",
    "                if (depthvalue) > 0: \n",
    "                    webdir(link, depthvalue, indentvalue)          \n",
    "                \n",
    "    except ValueError:\n",
    "        print(\"Please enter the correct value\")\n",
    "        \n",
    "webdir('https://reed.cs.depaul.edu/lperkovic/test1.html', 2, 0)"
   ]
  },
  {
   "cell_type": "markdown",
   "id": "0c7e6dfd",
   "metadata": {},
   "source": [
    "8) Write SQL queries on the below database table that return.\n",
    "a) All the temperature data    \n",
    "b) All the cities, but without repetition.\n",
    "c) All the records for India.\n",
    "d) All the Fall records.\n",
    "e) The city, country, and season for which the average rainfall is between 200 \n",
    "and 400 millimeters.\n",
    "f) The city and country for which the average Fall temperature is above 20 \n",
    "degrees, in increasing temperature order.\n",
    "g) The total annual rainfall for Cairo.\n",
    "h) The total rainfall for each season        "
   ]
  },
  {
   "cell_type": "code",
   "execution_count": 62,
   "id": "2e6b9333",
   "metadata": {},
   "outputs": [
    {
     "data": {
      "text/plain": [
       "<sqlite3.Cursor at 0x22132db3960>"
      ]
     },
     "execution_count": 62,
     "metadata": {},
     "output_type": "execute_result"
    }
   ],
   "source": [
    "#create and insert the details in sql table\n",
    "import sqlite3\n",
    "con = sqlite3.connect('RiniDBfile.db')\n",
    "cur = con.cursor()\n",
    "cur.execute(\"CREATE TABLE temp_details (City text, Country text, Season text,Temperature float,Rainfall float)\")\n",
    "cur.execute(\"INSERT INTO temp_details VALUES ('Mumbai', 'India', 'Winter',24.8,5.9)\")\n",
    "cur.execute(\"INSERT INTO temp_details VALUES ('Mumbai', 'India', 'Spring',28.4,16.2)\")\n",
    "cur.execute(\"INSERT INTO temp_details VALUES ('Mumbai', 'India', 'Summer',27.9,1549.4 )\")\n",
    "cur.execute(\"INSERT INTO temp_details VALUES ('Mumbai', 'India', 'Fall',27.6,346.0)\")\n",
    "cur.execute(\"INSERT INTO temp_details VALUES ('London', 'United Kingdom', 'Winter',4.2,207.7 )\")\n",
    "cur.execute(\"INSERT INTO temp_details VALUES ('London', 'United Kingdom', 'Spring',8.3,169.6)\")\n",
    "cur.execute(\"INSERT INTO temp_details VALUES ('London', 'United Kingdom', 'Summer',15.7,157.0)\")\n",
    "cur.execute(\"INSERT INTO temp_details VALUES ('London', 'United Kingdom', 'Fall',10.4,218.5)\")\n",
    "cur.execute(\"INSERT INTO temp_details VALUES ('Cairo', 'Egypt', 'Winter',13.6,16.5)\")\n",
    "cur.execute(\"INSERT INTO temp_details VALUES ('Cairo', 'Egypt', 'Spring',20.7,6.5)\")\n",
    "cur.execute(\"INSERT INTO temp_details VALUES ('Cairo', 'Egypt', 'Summer',27.7,0.1)\")\n",
    "cur.execute(\"INSERT INTO temp_details VALUES ('Cairo', 'Egypt', 'Fall',22.2,4.5)\")"
   ]
  },
  {
   "cell_type": "code",
   "execution_count": 63,
   "id": "e057273b",
   "metadata": {},
   "outputs": [
    {
     "data": {
      "text/plain": [
       "[('Mumbai', 'India', 'Winter', 24.8, 5.9),\n",
       " ('Mumbai', 'India', 'Spring', 28.4, 16.2),\n",
       " ('Mumbai', 'India', 'Summer', 27.9, 1549.4),\n",
       " ('Mumbai', 'India', 'Fall', 27.6, 346.0),\n",
       " ('London', 'United Kingdom', 'Winter', 4.2, 207.7),\n",
       " ('London', 'United Kingdom', 'Spring', 8.3, 169.6),\n",
       " ('London', 'United Kingdom', 'Summer', 15.7, 157.0),\n",
       " ('London', 'United Kingdom', 'Fall', 10.4, 218.5),\n",
       " ('Cairo', 'Egypt', 'Winter', 13.6, 16.5),\n",
       " ('Cairo', 'Egypt', 'Spring', 20.7, 6.5),\n",
       " ('Cairo', 'Egypt', 'Summer', 27.7, 0.1),\n",
       " ('Cairo', 'Egypt', 'Fall', 22.2, 4.5)]"
      ]
     },
     "execution_count": 63,
     "metadata": {},
     "output_type": "execute_result"
    }
   ],
   "source": [
    "cur.execute('SELECT * FROM temp_details')\n",
    "cur.fetchall()"
   ]
  },
  {
   "cell_type": "markdown",
   "id": "ad394df4",
   "metadata": {},
   "source": [
    "a) All the temperature data."
   ]
  },
  {
   "cell_type": "code",
   "execution_count": 67,
   "id": "1270ca57",
   "metadata": {},
   "outputs": [
    {
     "data": {
      "text/plain": [
       "[(24.8,),\n",
       " (28.4,),\n",
       " (27.9,),\n",
       " (27.6,),\n",
       " (4.2,),\n",
       " (8.3,),\n",
       " (15.7,),\n",
       " (10.4,),\n",
       " (13.6,),\n",
       " (20.7,),\n",
       " (27.7,),\n",
       " (22.2,)]"
      ]
     },
     "execution_count": 67,
     "metadata": {},
     "output_type": "execute_result"
    }
   ],
   "source": [
    "cur.execute('SELECT temperature FROM temp_details')\n",
    "cur.fetchall()"
   ]
  },
  {
   "cell_type": "markdown",
   "id": "9aaae08e",
   "metadata": {},
   "source": [
    "b) All the cities, but without repetition."
   ]
  },
  {
   "cell_type": "code",
   "execution_count": 69,
   "id": "e42e24d1",
   "metadata": {},
   "outputs": [
    {
     "data": {
      "text/plain": [
       "[('Mumbai',), ('London',), ('Cairo',)]"
      ]
     },
     "execution_count": 69,
     "metadata": {},
     "output_type": "execute_result"
    }
   ],
   "source": [
    "cur.execute('SELECT DISTINCT City FROM temp_details')\n",
    "cur.fetchall()"
   ]
  },
  {
   "cell_type": "markdown",
   "id": "9b0a3530",
   "metadata": {},
   "source": [
    "c) All the records for India."
   ]
  },
  {
   "cell_type": "code",
   "execution_count": 70,
   "id": "cb74cf4b",
   "metadata": {},
   "outputs": [
    {
     "data": {
      "text/plain": [
       "[('Mumbai', 'India', 'Winter', 24.8, 5.9),\n",
       " ('Mumbai', 'India', 'Spring', 28.4, 16.2),\n",
       " ('Mumbai', 'India', 'Summer', 27.9, 1549.4),\n",
       " ('Mumbai', 'India', 'Fall', 27.6, 346.0)]"
      ]
     },
     "execution_count": 70,
     "metadata": {},
     "output_type": "execute_result"
    }
   ],
   "source": [
    "cur.execute(\"SELECT * FROM temp_details WHERE Country='India'\")\n",
    "cur.fetchall()"
   ]
  },
  {
   "cell_type": "markdown",
   "id": "c10f6a96",
   "metadata": {},
   "source": [
    "d) All the Fall records."
   ]
  },
  {
   "cell_type": "code",
   "execution_count": 71,
   "id": "e00e7a2d",
   "metadata": {},
   "outputs": [
    {
     "data": {
      "text/plain": [
       "[('Mumbai', 'India', 'Fall', 27.6, 346.0),\n",
       " ('London', 'United Kingdom', 'Fall', 10.4, 218.5),\n",
       " ('Cairo', 'Egypt', 'Fall', 22.2, 4.5)]"
      ]
     },
     "execution_count": 71,
     "metadata": {},
     "output_type": "execute_result"
    }
   ],
   "source": [
    "cur.execute(\"SELECT * FROM temp_details WHERE Season='Fall'\")\n",
    "cur.fetchall()"
   ]
  },
  {
   "cell_type": "markdown",
   "id": "53779049",
   "metadata": {},
   "source": [
    "e) The city, country, and season for which the average rainfall is between 200 and 400 millimeters."
   ]
  },
  {
   "cell_type": "code",
   "execution_count": 72,
   "id": "f3ae871f",
   "metadata": {},
   "outputs": [
    {
     "data": {
      "text/plain": [
       "[('Mumbai', 'India', 'Fall'),\n",
       " ('London', 'United Kingdom', 'Winter'),\n",
       " ('London', 'United Kingdom', 'Fall')]"
      ]
     },
     "execution_count": 72,
     "metadata": {},
     "output_type": "execute_result"
    }
   ],
   "source": [
    "cur.execute(\"SELECT City,country,Season FROM temp_details WHERE Rainfall BETWEEN 200 AND 400\")\n",
    "cur.fetchall()"
   ]
  },
  {
   "cell_type": "markdown",
   "id": "27b1fd3f",
   "metadata": {},
   "source": [
    "f) The city and country for which the average Fall temperature is above 20 degrees, in increasing temperature order."
   ]
  },
  {
   "cell_type": "code",
   "execution_count": 73,
   "id": "bc74dd01",
   "metadata": {},
   "outputs": [
    {
     "data": {
      "text/plain": [
       "[('Cairo', 'Egypt'), ('Mumbai', 'India')]"
      ]
     },
     "execution_count": 73,
     "metadata": {},
     "output_type": "execute_result"
    }
   ],
   "source": [
    "cur.execute(\"SELECT City,country FROM temp_details WHERE Season='Fall' AND temperature > 20 ORDER BY temperature ASC\")\n",
    "cur.fetchall()"
   ]
  },
  {
   "cell_type": "markdown",
   "id": "7a4c4a7d",
   "metadata": {},
   "source": [
    "g) The total annual rainfall for Cairo."
   ]
  },
  {
   "cell_type": "code",
   "execution_count": 76,
   "id": "a1d2fdde",
   "metadata": {},
   "outputs": [
    {
     "data": {
      "text/plain": [
       "[(27.6,)]"
      ]
     },
     "execution_count": 76,
     "metadata": {},
     "output_type": "execute_result"
    }
   ],
   "source": [
    "cur.execute(\"SELECT SUM(Rainfall) FROM temp_details WHERE City='Cairo'\")\n",
    "cur.fetchall()"
   ]
  },
  {
   "cell_type": "markdown",
   "id": "b636c482",
   "metadata": {},
   "source": [
    "h) The total rainfall for each season."
   ]
  },
  {
   "cell_type": "code",
   "execution_count": 77,
   "id": "a3e7ab15",
   "metadata": {},
   "outputs": [
    {
     "data": {
      "text/plain": [
       "[(569.0,), (192.29999999999998,), (1706.5,), (230.1,)]"
      ]
     },
     "execution_count": 77,
     "metadata": {},
     "output_type": "execute_result"
    }
   ],
   "source": [
    "cur.execute(\"SELECT SUM(Rainfall) FROM temp_details GROUP BY Season\")\n",
    "cur.fetchall()"
   ]
  },
  {
   "cell_type": "markdown",
   "id": "515960e1",
   "metadata": {},
   "source": [
    "9) Write list comprehension expressions that use list words and generate the following lists."
   ]
  },
  {
   "cell_type": "code",
   "execution_count": 8,
   "id": "82ffde22",
   "metadata": {},
   "outputs": [
    {
     "name": "stdout",
     "output_type": "stream",
     "text": [
      "['THE', 'QUICK', 'BROWN', 'FOX', 'JUMPS', 'OVER', 'THE', 'LAZY', 'DOG'] \n",
      "\n",
      "['the', 'quick', 'brown', 'fox', 'jumps', 'over', 'the', 'lazy', 'dog'] \n",
      "\n",
      "[3, 5, 5, 3, 5, 4, 3, 4, 3] \n",
      "\n",
      "[['THE', 'the', 3], ['QUICK', 'quick', 5], ['BROWN', 'brown', 5], ['FOX', 'fox', 3], ['JUMPS', 'jumps', 5], ['OVER', 'over', 4], ['THE', 'the', 3], ['LAZY', 'lazy', 4], ['DOG', 'dog', 3]] \n",
      "\n",
      "['quick', 'brown', 'jumps', 'over', 'lazy'] \n",
      "\n"
     ]
    }
   ],
   "source": [
    "List_words = ['The', 'quick', 'brown', 'fox', 'jumps', 'over', 'the', 'lazy', 'dog']\n",
    "\n",
    "# List to the UpperCase\n",
    "List_words_1 = [i.upper() for i in List_words]  \n",
    "print(List_words_1,\"\\n\")\n",
    "\n",
    "# List to the LowerCase\n",
    "List_words_1 = [i.lower() for i in List_words] \n",
    "print(List_words_1,\"\\n\")\n",
    "\n",
    "# Length of the words\n",
    "List_words_1 = [len(i) for i in List_words] \n",
    "print(List_words_1,\"\\n\")\n",
    "\n",
    "# Uppercase, Lowercase and length of the word\n",
    "List_words_1 = [[i.upper(),i.lower(),len(i)] for i in List_words] \n",
    "print(List_words_1,\"\\n\")\n",
    "\n",
    "# List of words with length greater than 4\n",
    "List_words_1 = [i.lower() for i in List_words if len(i)>=4] \n",
    "print(List_words_1,\"\\n\")\n"
   ]
  }
 ],
 "metadata": {
  "kernelspec": {
   "display_name": "Python 3 (ipykernel)",
   "language": "python",
   "name": "python3"
  },
  "language_info": {
   "codemirror_mode": {
    "name": "ipython",
    "version": 3
   },
   "file_extension": ".py",
   "mimetype": "text/x-python",
   "name": "python",
   "nbconvert_exporter": "python",
   "pygments_lexer": "ipython3",
   "version": "3.9.12"
  }
 },
 "nbformat": 4,
 "nbformat_minor": 5
}
